{
 "cells": [
  {
   "cell_type": "code",
   "execution_count": 69,
   "id": "011aaa2b",
   "metadata": {},
   "outputs": [],
   "source": [
    "import pandas as pd\n",
    "import numpy as np\n",
    "import cv2\n",
    "import matplotlib\n",
    "import matplotlib.pyplot as plt\n",
    "%matplotlib inline"
   ]
  },
  {
   "cell_type": "markdown",
   "id": "e8b783f8",
   "metadata": {},
   "source": [
    "## Data Cleaning"
   ]
  },
  {
   "cell_type": "code",
   "execution_count": 36,
   "id": "eb4fcbfa",
   "metadata": {},
   "outputs": [],
   "source": [
    "# Downloaed from haarcascade github\n",
    "face_cascade = cv2.CascadeClassifier('./opencv/haarcascades/haarcascade_frontalface_default.xml')\n",
    "eye_cascade = cv2.CascadeClassifier('./opencv/haarcascades/haarcascade_eye.xml')"
   ]
  },
  {
   "cell_type": "code",
   "execution_count": 34,
   "id": "b736730d",
   "metadata": {},
   "outputs": [],
   "source": [
    "#common function to crop face if 2 eyes are seen in the image\n",
    "def get_cropped_image_if_2eyes(image_path):\n",
    "    img = cv2.imread(image_path)\n",
    "    gray = cv2.cvtColor(img, cv2.COLOR_BGR2GRAY)\n",
    "    faces = face_cascade.detectMultiScale(gray, 1.3, 5)\n",
    "    for (x,y,w,h) in faces:\n",
    "        roi_gray = gray[y:y+h, x:x+w]\n",
    "        roi_color = img[y:y+h, x:x+w]\n",
    "        eyes = eye_cascade.detectMultiScale(roi_gray)\n",
    "        if len(eyes) >= 2:\n",
    "            return roi_color"
   ]
  },
  {
   "cell_type": "code",
   "execution_count": 27,
   "id": "588ffe63",
   "metadata": {},
   "outputs": [],
   "source": [
    "import os\n",
    "\n",
    "path_to_data ='./dataset/'\n",
    "img_dirs = []\n",
    "for entry in os.scandir(path_to_data):\n",
    "    if entry.is_dir():\n",
    "        img_dirs.append(entry.path)"
   ]
  },
  {
   "cell_type": "code",
   "execution_count": 29,
   "id": "505d807a",
   "metadata": {},
   "outputs": [],
   "source": [
    "import shutil\n",
    "\n",
    "path_to_cr_data = './dataset/cropped/'\n",
    "\n",
    "if os.path.exists(path_to_cr_data):\n",
    "    shutil.rmtree(path_to_cr_data)\n",
    "os.mkdir(path_to_cr_data)"
   ]
  },
  {
   "cell_type": "code",
   "execution_count": 35,
   "id": "89d4ea7f",
   "metadata": {},
   "outputs": [],
   "source": [
    "cropped_img_dirs = []\n",
    "athlete_file_names_dict = {}\n",
    "\n",
    "for img_dir in img_dirs:\n",
    "    athlete_name = img_dir.split('/')[-1]\n",
    "    cropped_folder = path_to_cr_data + athlete_name\n",
    "    if not os.path.exists(cropped_folder):\n",
    "        os.mkdir(cropped_folder)\n",
    "        cropped_img_dirs.append(cropped_folder)\n",
    "    \n",
    "    count = 1\n",
    "    athlete_file_names_dict[athlete_name] = []\n",
    "    for entry in os.scandir(img_dir):\n",
    "        roi_color = get_cropped_image_if_2eyes(entry.path)\n",
    "        if roi_color is not None:\n",
    "            cropped_file_name = athlete_name + str(count) +\".png\"\n",
    "            cropped_file_path = cropped_folder + \"/\" + cropped_file_name\n",
    "            cv2.imwrite(cropped_file_path, roi_color)\n",
    "            athlete_file_names_dict[athlete_name].append(cropped_file_path)\n",
    "            count += 1"
   ]
  },
  {
   "cell_type": "code",
   "execution_count": 49,
   "id": "3d10b490",
   "metadata": {},
   "outputs": [],
   "source": [
    "athlete_file_names_dict = {}\n",
    "for img_dir in cropped_img_dirs:\n",
    "    athlete_name = img_dir.split('/')[-1]\n",
    "    file_list = []\n",
    "    for entry in os.scandir(img_dir):\n",
    "        file_list.append(entry.path)\n",
    "    athlete_file_names_dict[athlete_name] = file_list"
   ]
  },
  {
   "cell_type": "markdown",
   "id": "ba7f3e5c",
   "metadata": {},
   "source": [
    "## Feature Engineering"
   ]
  },
  {
   "cell_type": "code",
   "execution_count": 83,
   "id": "b0f64f0b",
   "metadata": {},
   "outputs": [],
   "source": [
    "import pywt\n",
    "\n",
    "def w2d(img, mode=\"haar\", level=1):\n",
    "    imArray = img\n",
    "    #Datatype conversions\n",
    "    \n",
    "    #convert to grayscale\n",
    "    imArray = cv2.cvtColor(imArray, cv2.COLOR_RGB2GRAY)\n",
    "    \n",
    "    #convert to float\n",
    "    imArray = np.float32(imArray)\n",
    "    imArray /= 255;\n",
    "    #compute coefficients\n",
    "    coeffs = pywt.wavedec2(imArray, mode, level=level)\n",
    "    \n",
    "    #Process coefficients\n",
    "    coeffs_H = list(coeffs)\n",
    "    coeffs_H[0] *= 0;\n",
    "    \n",
    "    #Reconstruction\n",
    "    imArray_H = pywt.waverec2(coeffs_H, mode);\n",
    "    imArray_H *= 255;\n",
    "    imArray_H = np.uint8(imArray_H)\n",
    "    \n",
    "    return imArray_H"
   ]
  },
  {
   "cell_type": "code",
   "execution_count": 51,
   "id": "1f30bd75",
   "metadata": {},
   "outputs": [],
   "source": [
    "#pair names to int\n",
    "class_dict = {}\n",
    "count = 0\n",
    "\n",
    "for athlete_name in athlete_file_names_dict.keys():\n",
    "    class_dict[athlete_name] = count\n",
    "    count += 1"
   ]
  },
  {
   "cell_type": "code",
   "execution_count": 52,
   "id": "5c773b8c",
   "metadata": {},
   "outputs": [],
   "source": [
    "X = []\n",
    "y = []\n",
    "\n",
    "for athlete_name, training_files in athlete_file_names_dict.items():\n",
    "    for training_image in training_files:\n",
    "        img = cv2.imread(training_image)\n",
    "        if img is None:\n",
    "            continue\n",
    "            \n",
    "        scaled_raw_img = cv2.resize(img, (32,32))\n",
    "        img_har = w2d(img,'db1',5)\n",
    "        scaled_img_har = cv2.resize(img_har, (32,32))\n",
    "        \n",
    "        #vertically stack both image\n",
    "        combined_img = np.vstack((scaled_raw_img.reshape(32*32*3,1), scaled_img_har.reshape(32*32,1)))\n",
    "        X.append(combined_img)\n",
    "        y.append(class_dict[athlete_name])"
   ]
  },
  {
   "cell_type": "code",
   "execution_count": 53,
   "id": "f8b5a11f",
   "metadata": {},
   "outputs": [
    {
     "data": {
      "text/plain": [
       "(162, 4096)"
      ]
     },
     "execution_count": 53,
     "metadata": {},
     "output_type": "execute_result"
    }
   ],
   "source": [
    "X = np.array(X).reshape(len(X),4096).astype(float)\n",
    "X.shape"
   ]
  },
  {
   "cell_type": "markdown",
   "id": "a247c833",
   "metadata": {},
   "source": [
    "## Model Training"
   ]
  },
  {
   "cell_type": "markdown",
   "id": "9db5c15a",
   "metadata": {},
   "source": [
    "We will use SVM with rbf kernel tuned with hueristic finetuning"
   ]
  },
  {
   "cell_type": "code",
   "execution_count": 54,
   "id": "d54ece47",
   "metadata": {},
   "outputs": [],
   "source": [
    "from sklearn.svm import SVC\n",
    "from sklearn.preprocessing import StandardScaler\n",
    "from sklearn.model_selection import train_test_split\n",
    "from sklearn.pipeline import Pipeline\n",
    "from sklearn.metrics import classification_report"
   ]
  },
  {
   "cell_type": "code",
   "execution_count": 55,
   "id": "ba64129f",
   "metadata": {},
   "outputs": [],
   "source": [
    "X_train, X_test, y_train, y_test = train_test_split(X, y, random_state = 0)"
   ]
  },
  {
   "cell_type": "code",
   "execution_count": 57,
   "id": "b1ef5fcd",
   "metadata": {},
   "outputs": [
    {
     "data": {
      "text/plain": [
       "0.8536585365853658"
      ]
     },
     "execution_count": 57,
     "metadata": {},
     "output_type": "execute_result"
    }
   ],
   "source": [
    "#create sklearn pipeline\n",
    "pipe = Pipeline([('scaler',StandardScaler()), ('svc', SVC(kernel = 'rbf', C = 10))]) # randomly chosen parameters\n",
    "pipe.fit(X_train, y_train)\n",
    "pipe.score(X_test, y_test)"
   ]
  },
  {
   "cell_type": "code",
   "execution_count": 58,
   "id": "449dc95e",
   "metadata": {},
   "outputs": [
    {
     "data": {
      "text/plain": [
       "41"
      ]
     },
     "execution_count": 58,
     "metadata": {},
     "output_type": "execute_result"
    }
   ],
   "source": [
    "len(X_test)"
   ]
  },
  {
   "cell_type": "code",
   "execution_count": 60,
   "id": "4449540f",
   "metadata": {},
   "outputs": [
    {
     "data": {
      "text/plain": [
       "{'lionel_messi': 0,\n",
       " 'maria_sharapova': 1,\n",
       " 'roger_federer': 2,\n",
       " 'serena_williams': 3,\n",
       " 'virat_kohli': 4}"
      ]
     },
     "execution_count": 60,
     "metadata": {},
     "output_type": "execute_result"
    }
   ],
   "source": [
    "class_dict"
   ]
  },
  {
   "cell_type": "code",
   "execution_count": 59,
   "id": "8c4ab397",
   "metadata": {},
   "outputs": [
    {
     "name": "stdout",
     "output_type": "stream",
     "text": [
      "              precision    recall  f1-score   support\n",
      "\n",
      "           0       0.71      0.71      0.71         7\n",
      "           1       1.00      0.91      0.95        11\n",
      "           2       0.67      1.00      0.80         4\n",
      "           3       1.00      0.83      0.91         6\n",
      "           4       0.85      0.85      0.85        13\n",
      "\n",
      "    accuracy                           0.85        41\n",
      "   macro avg       0.85      0.86      0.84        41\n",
      "weighted avg       0.87      0.85      0.86        41\n",
      "\n"
     ]
    }
   ],
   "source": [
    "print(classification_report(y_test, pipe.predict(X_test)))"
   ]
  },
  {
   "cell_type": "markdown",
   "id": "ca7a8803",
   "metadata": {},
   "source": [
    "### Use GridSearchCV to try out different models with different parameters"
   ]
  },
  {
   "cell_type": "code",
   "execution_count": 62,
   "id": "78e35670",
   "metadata": {},
   "outputs": [],
   "source": [
    "from sklearn import svm\n",
    "from sklearn.ensemble import RandomForestClassifier\n",
    "from sklearn.linear_model import LogisticRegression\n",
    "from sklearn.pipeline import make_pipeline\n",
    "from sklearn.model_selection import GridSearchCV"
   ]
  },
  {
   "cell_type": "code",
   "execution_count": 66,
   "id": "6d854a96",
   "metadata": {},
   "outputs": [],
   "source": [
    "model_params ={\n",
    "    'svm':{\n",
    "        'model': svm.SVC(gamma='auto', probability=True),\n",
    "        'params': {\n",
    "            'svc__C': [1,10,100,1000],\n",
    "            'svc__kernel':['rbf','linear']}\n",
    "    },\n",
    "    \n",
    "    'random_forest':{\n",
    "        'model': RandomForestClassifier(),\n",
    "        'params': {'randomforestclassifier__n_estimators': [1,5,10]}\n",
    "    },\n",
    "    \n",
    "    'logistic_regression':{\n",
    "        'model': LogisticRegression(solver='liblinear', multi_class='auto'),\n",
    "        'params': {'logisticregression__C':[1,5,10]}\n",
    "    }\n",
    "}"
   ]
  },
  {
   "cell_type": "code",
   "execution_count": 72,
   "id": "625792e0",
   "metadata": {},
   "outputs": [
    {
     "data": {
      "text/html": [
       "<div>\n",
       "<style scoped>\n",
       "    .dataframe tbody tr th:only-of-type {\n",
       "        vertical-align: middle;\n",
       "    }\n",
       "\n",
       "    .dataframe tbody tr th {\n",
       "        vertical-align: top;\n",
       "    }\n",
       "\n",
       "    .dataframe thead th {\n",
       "        text-align: right;\n",
       "    }\n",
       "</style>\n",
       "<table border=\"1\" class=\"dataframe\">\n",
       "  <thead>\n",
       "    <tr style=\"text-align: right;\">\n",
       "      <th></th>\n",
       "      <th>model</th>\n",
       "      <th>best_score</th>\n",
       "      <th>best_params</th>\n",
       "    </tr>\n",
       "  </thead>\n",
       "  <tbody>\n",
       "    <tr>\n",
       "      <th>0</th>\n",
       "      <td>svm</td>\n",
       "      <td>0.851333</td>\n",
       "      <td>{'svc__C': 10, 'svc__kernel': 'rbf'}</td>\n",
       "    </tr>\n",
       "    <tr>\n",
       "      <th>1</th>\n",
       "      <td>random_forest</td>\n",
       "      <td>0.595000</td>\n",
       "      <td>{'randomforestclassifier__n_estimators': 10}</td>\n",
       "    </tr>\n",
       "    <tr>\n",
       "      <th>2</th>\n",
       "      <td>logistic_regression</td>\n",
       "      <td>0.867667</td>\n",
       "      <td>{'logisticregression__C': 10}</td>\n",
       "    </tr>\n",
       "  </tbody>\n",
       "</table>\n",
       "</div>"
      ],
      "text/plain": [
       "                 model  best_score  \\\n",
       "0                  svm    0.851333   \n",
       "1        random_forest    0.595000   \n",
       "2  logistic_regression    0.867667   \n",
       "\n",
       "                                    best_params  \n",
       "0          {'svc__C': 10, 'svc__kernel': 'rbf'}  \n",
       "1  {'randomforestclassifier__n_estimators': 10}  \n",
       "2                 {'logisticregression__C': 10}  "
      ]
     },
     "execution_count": 72,
     "metadata": {},
     "output_type": "execute_result"
    }
   ],
   "source": [
    "scores = []\n",
    "best_estimators = {}\n",
    "\n",
    "for algo, mp in model_params.items():\n",
    "    pipe = make_pipeline(StandardScaler(), mp['model']) #scale the data\n",
    "    clf = GridSearchCV(pipe, mp['params'], cv=5, return_train_score=False)\n",
    "    clf.fit(X_train, y_train)\n",
    "    scores.append({\n",
    "        'model': algo,\n",
    "        'best_score': clf.best_score_,\n",
    "        'best_params': clf.best_params_\n",
    "    })\n",
    "    best_estimators[algo] = clf.best_estimator_\n",
    "    \n",
    "df = pd.DataFrame(scores, columns = ['model', 'best_score', 'best_params'])\n",
    "df"
   ]
  },
  {
   "cell_type": "code",
   "execution_count": 73,
   "id": "c0f79390",
   "metadata": {},
   "outputs": [
    {
     "data": {
      "text/plain": [
       "{'svm': Pipeline(steps=[('standardscaler', StandardScaler()),\n",
       "                 ('svc', SVC(C=10, gamma='auto', probability=True))]),\n",
       " 'random_forest': Pipeline(steps=[('standardscaler', StandardScaler()),\n",
       "                 ('randomforestclassifier',\n",
       "                  RandomForestClassifier(n_estimators=10))]),\n",
       " 'logistic_regression': Pipeline(steps=[('standardscaler', StandardScaler()),\n",
       "                 ('logisticregression',\n",
       "                  LogisticRegression(C=10, solver='liblinear'))])}"
      ]
     },
     "execution_count": 73,
     "metadata": {},
     "output_type": "execute_result"
    }
   ],
   "source": [
    "best_estimators"
   ]
  },
  {
   "cell_type": "code",
   "execution_count": 74,
   "id": "b10dd230",
   "metadata": {},
   "outputs": [
    {
     "data": {
      "text/html": [
       "<style>#sk-container-id-1 {color: black;}#sk-container-id-1 pre{padding: 0;}#sk-container-id-1 div.sk-toggleable {background-color: white;}#sk-container-id-1 label.sk-toggleable__label {cursor: pointer;display: block;width: 100%;margin-bottom: 0;padding: 0.3em;box-sizing: border-box;text-align: center;}#sk-container-id-1 label.sk-toggleable__label-arrow:before {content: \"▸\";float: left;margin-right: 0.25em;color: #696969;}#sk-container-id-1 label.sk-toggleable__label-arrow:hover:before {color: black;}#sk-container-id-1 div.sk-estimator:hover label.sk-toggleable__label-arrow:before {color: black;}#sk-container-id-1 div.sk-toggleable__content {max-height: 0;max-width: 0;overflow: hidden;text-align: left;background-color: #f0f8ff;}#sk-container-id-1 div.sk-toggleable__content pre {margin: 0.2em;color: black;border-radius: 0.25em;background-color: #f0f8ff;}#sk-container-id-1 input.sk-toggleable__control:checked~div.sk-toggleable__content {max-height: 200px;max-width: 100%;overflow: auto;}#sk-container-id-1 input.sk-toggleable__control:checked~label.sk-toggleable__label-arrow:before {content: \"▾\";}#sk-container-id-1 div.sk-estimator input.sk-toggleable__control:checked~label.sk-toggleable__label {background-color: #d4ebff;}#sk-container-id-1 div.sk-label input.sk-toggleable__control:checked~label.sk-toggleable__label {background-color: #d4ebff;}#sk-container-id-1 input.sk-hidden--visually {border: 0;clip: rect(1px 1px 1px 1px);clip: rect(1px, 1px, 1px, 1px);height: 1px;margin: -1px;overflow: hidden;padding: 0;position: absolute;width: 1px;}#sk-container-id-1 div.sk-estimator {font-family: monospace;background-color: #f0f8ff;border: 1px dotted black;border-radius: 0.25em;box-sizing: border-box;margin-bottom: 0.5em;}#sk-container-id-1 div.sk-estimator:hover {background-color: #d4ebff;}#sk-container-id-1 div.sk-parallel-item::after {content: \"\";width: 100%;border-bottom: 1px solid gray;flex-grow: 1;}#sk-container-id-1 div.sk-label:hover label.sk-toggleable__label {background-color: #d4ebff;}#sk-container-id-1 div.sk-serial::before {content: \"\";position: absolute;border-left: 1px solid gray;box-sizing: border-box;top: 0;bottom: 0;left: 50%;z-index: 0;}#sk-container-id-1 div.sk-serial {display: flex;flex-direction: column;align-items: center;background-color: white;padding-right: 0.2em;padding-left: 0.2em;position: relative;}#sk-container-id-1 div.sk-item {position: relative;z-index: 1;}#sk-container-id-1 div.sk-parallel {display: flex;align-items: stretch;justify-content: center;background-color: white;position: relative;}#sk-container-id-1 div.sk-item::before, #sk-container-id-1 div.sk-parallel-item::before {content: \"\";position: absolute;border-left: 1px solid gray;box-sizing: border-box;top: 0;bottom: 0;left: 50%;z-index: -1;}#sk-container-id-1 div.sk-parallel-item {display: flex;flex-direction: column;z-index: 1;position: relative;background-color: white;}#sk-container-id-1 div.sk-parallel-item:first-child::after {align-self: flex-end;width: 50%;}#sk-container-id-1 div.sk-parallel-item:last-child::after {align-self: flex-start;width: 50%;}#sk-container-id-1 div.sk-parallel-item:only-child::after {width: 0;}#sk-container-id-1 div.sk-dashed-wrapped {border: 1px dashed gray;margin: 0 0.4em 0.5em 0.4em;box-sizing: border-box;padding-bottom: 0.4em;background-color: white;}#sk-container-id-1 div.sk-label label {font-family: monospace;font-weight: bold;display: inline-block;line-height: 1.2em;}#sk-container-id-1 div.sk-label-container {text-align: center;}#sk-container-id-1 div.sk-container {/* jupyter's `normalize.less` sets `[hidden] { display: none; }` but bootstrap.min.css set `[hidden] { display: none !important; }` so we also need the `!important` here to be able to override the default hidden behavior on the sphinx rendered scikit-learn.org. See: https://github.com/scikit-learn/scikit-learn/issues/21755 */display: inline-block !important;position: relative;}#sk-container-id-1 div.sk-text-repr-fallback {display: none;}</style><div id=\"sk-container-id-1\" class=\"sk-top-container\"><div class=\"sk-text-repr-fallback\"><pre>Pipeline(steps=[(&#x27;standardscaler&#x27;, StandardScaler()),\n",
       "                (&#x27;logisticregression&#x27;,\n",
       "                 LogisticRegression(C=10, solver=&#x27;liblinear&#x27;))])</pre><b>In a Jupyter environment, please rerun this cell to show the HTML representation or trust the notebook. <br />On GitHub, the HTML representation is unable to render, please try loading this page with nbviewer.org.</b></div><div class=\"sk-container\" hidden><div class=\"sk-item sk-dashed-wrapped\"><div class=\"sk-label-container\"><div class=\"sk-label sk-toggleable\"><input class=\"sk-toggleable__control sk-hidden--visually\" id=\"sk-estimator-id-1\" type=\"checkbox\" ><label for=\"sk-estimator-id-1\" class=\"sk-toggleable__label sk-toggleable__label-arrow\">Pipeline</label><div class=\"sk-toggleable__content\"><pre>Pipeline(steps=[(&#x27;standardscaler&#x27;, StandardScaler()),\n",
       "                (&#x27;logisticregression&#x27;,\n",
       "                 LogisticRegression(C=10, solver=&#x27;liblinear&#x27;))])</pre></div></div></div><div class=\"sk-serial\"><div class=\"sk-item\"><div class=\"sk-estimator sk-toggleable\"><input class=\"sk-toggleable__control sk-hidden--visually\" id=\"sk-estimator-id-2\" type=\"checkbox\" ><label for=\"sk-estimator-id-2\" class=\"sk-toggleable__label sk-toggleable__label-arrow\">StandardScaler</label><div class=\"sk-toggleable__content\"><pre>StandardScaler()</pre></div></div></div><div class=\"sk-item\"><div class=\"sk-estimator sk-toggleable\"><input class=\"sk-toggleable__control sk-hidden--visually\" id=\"sk-estimator-id-3\" type=\"checkbox\" ><label for=\"sk-estimator-id-3\" class=\"sk-toggleable__label sk-toggleable__label-arrow\">LogisticRegression</label><div class=\"sk-toggleable__content\"><pre>LogisticRegression(C=10, solver=&#x27;liblinear&#x27;)</pre></div></div></div></div></div></div></div>"
      ],
      "text/plain": [
       "Pipeline(steps=[('standardscaler', StandardScaler()),\n",
       "                ('logisticregression',\n",
       "                 LogisticRegression(C=10, solver='liblinear'))])"
      ]
     },
     "execution_count": 74,
     "metadata": {},
     "output_type": "execute_result"
    }
   ],
   "source": [
    "best_estimators['logistic_regression']"
   ]
  },
  {
   "cell_type": "code",
   "execution_count": 75,
   "id": "22d8bc73",
   "metadata": {},
   "outputs": [
    {
     "name": "stdout",
     "output_type": "stream",
     "text": [
      "Logistic Regression: 0.926829268292683\n",
      "SVM: 0.8536585365853658\n"
     ]
    }
   ],
   "source": [
    "print(\"Logistic Regression:\", best_estimators['logistic_regression'].score(X_test, y_test))\n",
    "print(\"SVM:\", best_estimators['svm'].score(X_test, y_test))"
   ]
  },
  {
   "cell_type": "code",
   "execution_count": 76,
   "id": "9920360d",
   "metadata": {},
   "outputs": [],
   "source": [
    "best_clf = best_estimators['logistic_regression']"
   ]
  },
  {
   "cell_type": "code",
   "execution_count": 77,
   "id": "0e0bddf9",
   "metadata": {},
   "outputs": [
    {
     "data": {
      "text/plain": [
       "Text(95.72222222222221, 0.5, 'True Value')"
      ]
     },
     "execution_count": 77,
     "metadata": {},
     "output_type": "execute_result"
    },
    {
     "data": {
      "image/png": "[encoded data removed]",
      "text/plain": [
       "<Figure size 1000x700 with 2 Axes>"
      ]
     },
     "metadata": {},
     "output_type": "display_data"
    }
   ],
   "source": [
    "from sklearn.metrics import confusion_matrix\n",
    "import seaborn as sns\n",
    "\n",
    "cm = confusion_matrix(y_test, best_clf.predict(X_test))\n",
    "plt.figure(figsize=(10,7))\n",
    "sns.heatmap(cm, annot=True)\n",
    "plt.xlabel('Predicted')\n",
    "plt.ylabel('True Value')"
   ]
  },
  {
   "cell_type": "markdown",
   "id": "0c395f6c",
   "metadata": {},
   "source": [
    "### Save the trained model"
   ]
  },
  {
   "cell_type": "code",
   "execution_count": 78,
   "id": "bbe269d7",
   "metadata": {},
   "outputs": [],
   "source": [
    "import joblib"
   ]
  },
  {
   "cell_type": "code",
   "execution_count": 79,
   "id": "17b3ef85",
   "metadata": {},
   "outputs": [
    {
     "data": {
      "text/plain": [
       "['saved_model.pkl']"
      ]
     },
     "execution_count": 79,
     "metadata": {},
     "output_type": "execute_result"
    }
   ],
   "source": [
    "# save the model as a pickle in a file\n",
    "joblib.dump(best_clf, 'saved_model.pkl')"
   ]
  },
  {
   "cell_type": "markdown",
   "id": "b4a439be",
   "metadata": {},
   "source": [
    "### Save class dictionary"
   ]
  },
  {
   "cell_type": "code",
   "execution_count": 80,
   "id": "e941b585",
   "metadata": {},
   "outputs": [],
   "source": [
    "import json"
   ]
  },
  {
   "cell_type": "code",
   "execution_count": 82,
   "id": "ce8e285b",
   "metadata": {},
   "outputs": [],
   "source": [
    "with open('class_dictionary.json','w') as f:\n",
    "    f.write(json.dump(class_dict))"
   ]
  },
  {
   "cell_type": "code",
   "execution_count": null,
   "id": "52218d44",
   "metadata": {},
   "outputs": [],
   "source": []
  }
 ],
 "metadata": {
  "kernelspec": {
   "display_name": "Python 3 (ipykernel)",
   "language": "python",
   "name": "python3"
  },
  "language_info": {
   "codemirror_mode": {
    "name": "ipython",
    "version": 3
   },
   "file_extension": ".py",
   "mimetype": "text/x-python",
   "name": "python",
   "nbconvert_exporter": "python",
   "pygments_lexer": "ipython3",
   "version": "3.11.5"
  }
 },
 "nbformat": 4,
 "nbformat_minor": 5
}
